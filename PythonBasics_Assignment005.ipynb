{
 "cells": [
  {
   "cell_type": "markdown",
   "id": "7737d239",
   "metadata": {},
   "source": [
    "Q1. What does an empty dictionary's code look like?\n",
    "\n",
    "Ans: dictionary name that equals to { }"
   ]
  },
  {
   "cell_type": "code",
   "execution_count": 1,
   "id": "eed112a1",
   "metadata": {},
   "outputs": [],
   "source": [
    "empty_dict={}"
   ]
  },
  {
   "cell_type": "code",
   "execution_count": 2,
   "id": "40c1308c",
   "metadata": {},
   "outputs": [
    {
     "data": {
      "text/plain": [
       "dict"
      ]
     },
     "execution_count": 2,
     "metadata": {},
     "output_type": "execute_result"
    }
   ],
   "source": [
    "type(empty_dict)"
   ]
  },
  {
   "cell_type": "markdown",
   "id": "00b92ae2",
   "metadata": {},
   "source": [
    "Q2. What is the value of a dictionary value with the key 'foo' and the value 42?\n",
    "\n",
    "Ans:"
   ]
  },
  {
   "cell_type": "code",
   "execution_count": 3,
   "id": "a314c976",
   "metadata": {},
   "outputs": [
    {
     "data": {
      "text/plain": [
       "{'foo': 42}"
      ]
     },
     "execution_count": 3,
     "metadata": {},
     "output_type": "execute_result"
    }
   ],
   "source": [
    "{'foo':42}"
   ]
  },
  {
   "cell_type": "markdown",
   "id": "cc9cc0f3",
   "metadata": {},
   "source": [
    "Q3. What is the most significant distinction between a dictionary and a list?\n",
    "\n",
    "Ans: The items in list are in ordered sequence where the items can be accessed through index position whereas dictionary are unordered sets where the values are accessed through their corresponding key values."
   ]
  },
  {
   "cell_type": "markdown",
   "id": "0a835fae",
   "metadata": {},
   "source": [
    "Q4. What happens if you try to access spam['foo'] if spam is {'bar': 100}?\n",
    "\n",
    "Ans: This will give us KeyError: 'foo'"
   ]
  },
  {
   "cell_type": "markdown",
   "id": "9a4a7236",
   "metadata": {},
   "source": [
    "spam = {'bar': 100}\n",
    "spam['foo']"
   ]
  },
  {
   "cell_type": "markdown",
   "id": "86c1f8b1",
   "metadata": {},
   "source": [
    "Q5. If a dictionary is stored in spam, what is the difference between the expressions 'cat' in spam and 'cat' in spam.keys()?\n",
    "\n",
    "Ans: Both of the codes will check whether any key 'cat' is present in the dictionary spam and return either True if 'cat' is present or False is 'cat' is not present. But spam.keys() will check only for key items not values."
   ]
  },
  {
   "cell_type": "code",
   "execution_count": 5,
   "id": "a8f283af",
   "metadata": {},
   "outputs": [],
   "source": [
    "spam={'cat':100}"
   ]
  },
  {
   "cell_type": "code",
   "execution_count": 6,
   "id": "c136a6ef",
   "metadata": {},
   "outputs": [
    {
     "data": {
      "text/plain": [
       "True"
      ]
     },
     "execution_count": 6,
     "metadata": {},
     "output_type": "execute_result"
    }
   ],
   "source": [
    "'cat' in spam"
   ]
  },
  {
   "cell_type": "code",
   "execution_count": 7,
   "id": "d94a8fe8",
   "metadata": {},
   "outputs": [
    {
     "data": {
      "text/plain": [
       "True"
      ]
     },
     "execution_count": 7,
     "metadata": {},
     "output_type": "execute_result"
    }
   ],
   "source": [
    "'cat' in spam.keys()"
   ]
  },
  {
   "cell_type": "markdown",
   "id": "064c1745",
   "metadata": {},
   "source": [
    "Q6. If a dictionary is stored in spam, what is the difference between the expressions 'cat' in spam and 'cat' in spam.values()?\n",
    "\n",
    "Ans: 'cat' in spam will chaeck for key 'cat' in dictionary spam whereas 'cat' in spam.values() will check for 'cat' in the values but not in key present in spam dictionary."
   ]
  },
  {
   "cell_type": "code",
   "execution_count": 8,
   "id": "0ea4b88b",
   "metadata": {},
   "outputs": [
    {
     "data": {
      "text/plain": [
       "False"
      ]
     },
     "execution_count": 8,
     "metadata": {},
     "output_type": "execute_result"
    }
   ],
   "source": [
    "'cat' in spam.values()"
   ]
  },
  {
   "cell_type": "code",
   "execution_count": null,
   "id": "b677f361",
   "metadata": {},
   "outputs": [],
   "source": [
    "Q7. What is a shortcut for the following code?"
   ]
  },
  {
   "cell_type": "code",
   "execution_count": null,
   "id": "7c6c722b",
   "metadata": {},
   "outputs": [],
   "source": [
    "if 'color' not in spam:\n",
    "    spam['color'] = 'black'"
   ]
  },
  {
   "cell_type": "code",
   "execution_count": 9,
   "id": "64b22583",
   "metadata": {
    "scrolled": true
   },
   "outputs": [
    {
     "data": {
      "text/plain": [
       "'black'"
      ]
     },
     "execution_count": 9,
     "metadata": {},
     "output_type": "execute_result"
    }
   ],
   "source": [
    "spam.setdefault('color','black')"
   ]
  },
  {
   "cell_type": "markdown",
   "id": "512e0ecb",
   "metadata": {},
   "source": [
    "Q8. How do you \"pretty print\" dictionary values using which module and function?\n",
    "\n",
    "Ans: Suppose we have a dictionary that is dictionary_name. \n",
    "     To use pretty print we have ti import pretty print:\n",
    "        import pprint\n",
    "     Then to print dictionary we will use:\n",
    "        pprint.pprint(dictionary_name)"
   ]
  }
 ],
 "metadata": {
  "kernelspec": {
   "display_name": "Python 3",
   "language": "python",
   "name": "python3"
  },
  "language_info": {
   "codemirror_mode": {
    "name": "ipython",
    "version": 3
   },
   "file_extension": ".py",
   "mimetype": "text/x-python",
   "name": "python",
   "nbconvert_exporter": "python",
   "pygments_lexer": "ipython3",
   "version": "3.8.8"
  }
 },
 "nbformat": 4,
 "nbformat_minor": 5
}
