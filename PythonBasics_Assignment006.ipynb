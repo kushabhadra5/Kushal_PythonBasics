{
 "cells": [
  {
   "cell_type": "markdown",
   "id": "d57a7d9c",
   "metadata": {},
   "source": [
    "Q1. What are escape characters, and how do you use them?\n",
    "\n",
    "Ans: Escape sequences allow us to include special characters in strings. To do this, simply by adding a backslash (\\) before the character that has to be escaped.\n",
    "    For example, to print the string 'I'm Kushal'"
   ]
  },
  {
   "cell_type": "code",
   "execution_count": 1,
   "id": "92c2f33c",
   "metadata": {},
   "outputs": [
    {
     "name": "stdout",
     "output_type": "stream",
     "text": [
      "I'm Kushal\n"
     ]
    }
   ],
   "source": [
    "print('I\\'m Kushal')"
   ]
  },
  {
   "cell_type": "markdown",
   "id": "12062bd2",
   "metadata": {},
   "source": [
    "Here the single apostrophe between at index 1 is excaped."
   ]
  },
  {
   "cell_type": "markdown",
   "id": "5e66e357",
   "metadata": {},
   "source": [
    "Q2. 2. What do the escape characters n and t stand for?\n",
    "\n",
    "Ans: \\t stands for tab\n",
    "     \\n stands for new line"
   ]
  },
  {
   "cell_type": "markdown",
   "id": "edc2a8e7",
   "metadata": {},
   "source": [
    "Q3. What is the way to include backslash characters in a string?\n",
    "\n",
    "Ans: By adding another backlash befor that character in the string."
   ]
  },
  {
   "cell_type": "markdown",
   "id": "aeef1bd1",
   "metadata": {},
   "source": [
    "Q4. The string \"Howl's Moving Castle\" is a correct value. Why isn't the single quote character in the word Howl's not escaped a problem?\n",
    "\n",
    "Ans: Here, the string is enclose within double qoute."
   ]
  },
  {
   "cell_type": "markdown",
   "id": "04497e94",
   "metadata": {},
   "source": [
    "Q5. How do you write a string of newlines if you don't want to use the n character?\n",
    "\n",
    "Ans: print(\"string\", end = '\\n')\n",
    "     print(\"new string\")"
   ]
  },
  {
   "cell_type": "markdown",
   "id": "f04d5f81",
   "metadata": {},
   "source": [
    "Q6. What are the values of the given expressions?"
   ]
  },
  {
   "cell_type": "code",
   "execution_count": 2,
   "id": "f457d131",
   "metadata": {},
   "outputs": [
    {
     "data": {
      "text/plain": [
       "'e'"
      ]
     },
     "execution_count": 2,
     "metadata": {},
     "output_type": "execute_result"
    }
   ],
   "source": [
    "'Hello, world!'[1]"
   ]
  },
  {
   "cell_type": "code",
   "execution_count": 3,
   "id": "dbd84172",
   "metadata": {},
   "outputs": [
    {
     "data": {
      "text/plain": [
       "'Hello'"
      ]
     },
     "execution_count": 3,
     "metadata": {},
     "output_type": "execute_result"
    }
   ],
   "source": [
    "'Hello, world!'[0:5]"
   ]
  },
  {
   "cell_type": "code",
   "execution_count": 5,
   "id": "67c8cd7f",
   "metadata": {},
   "outputs": [
    {
     "data": {
      "text/plain": [
       "'Hello'"
      ]
     },
     "execution_count": 5,
     "metadata": {},
     "output_type": "execute_result"
    }
   ],
   "source": [
    "'Hello, world!'[:5]"
   ]
  },
  {
   "cell_type": "code",
   "execution_count": 6,
   "id": "bed9806e",
   "metadata": {},
   "outputs": [
    {
     "data": {
      "text/plain": [
       "'lo, world!'"
      ]
     },
     "execution_count": 6,
     "metadata": {},
     "output_type": "execute_result"
    }
   ],
   "source": [
    "'Hello, world!'[3:]"
   ]
  },
  {
   "cell_type": "markdown",
   "id": "0605945e",
   "metadata": {},
   "source": [
    "Q7. What are the values of the following expressions?"
   ]
  },
  {
   "cell_type": "code",
   "execution_count": 7,
   "id": "a000900e",
   "metadata": {},
   "outputs": [
    {
     "data": {
      "text/plain": [
       "'HELLO'"
      ]
     },
     "execution_count": 7,
     "metadata": {},
     "output_type": "execute_result"
    }
   ],
   "source": [
    "'Hello'.upper()"
   ]
  },
  {
   "cell_type": "code",
   "execution_count": 9,
   "id": "591da49f",
   "metadata": {},
   "outputs": [
    {
     "data": {
      "text/plain": [
       "True"
      ]
     },
     "execution_count": 9,
     "metadata": {},
     "output_type": "execute_result"
    }
   ],
   "source": [
    "'Hello'.upper().isupper()"
   ]
  },
  {
   "cell_type": "code",
   "execution_count": 10,
   "id": "860cfa6d",
   "metadata": {},
   "outputs": [
    {
     "data": {
      "text/plain": [
       "'hello'"
      ]
     },
     "execution_count": 10,
     "metadata": {},
     "output_type": "execute_result"
    }
   ],
   "source": [
    "'Hello'.upper().lower()"
   ]
  },
  {
   "cell_type": "markdown",
   "id": "59b40912",
   "metadata": {},
   "source": [
    "Q8. What are the values of the following expressions?"
   ]
  },
  {
   "cell_type": "code",
   "execution_count": 11,
   "id": "e2d8aba3",
   "metadata": {},
   "outputs": [
    {
     "data": {
      "text/plain": [
       "['Remember,', 'remember,', 'the', 'fifth', 'of', 'July.']"
      ]
     },
     "execution_count": 11,
     "metadata": {},
     "output_type": "execute_result"
    }
   ],
   "source": [
    "'Remember, remember, the fifth of July.'.split()"
   ]
  },
  {
   "cell_type": "code",
   "execution_count": 12,
   "id": "41b5eeb8",
   "metadata": {},
   "outputs": [
    {
     "data": {
      "text/plain": [
       "'There-can-only-one.'"
      ]
     },
     "execution_count": 12,
     "metadata": {},
     "output_type": "execute_result"
    }
   ],
   "source": [
    "'-'.join('There can only one.'.split())"
   ]
  },
  {
   "cell_type": "markdown",
   "id": "050962fd",
   "metadata": {},
   "source": [
    "Q9. What are the methods for right-justifying, left-justifying, and centering a string?\n",
    "\n",
    "Ans: For right-justifying a string: str_name.rjust(n,k)\n",
    "     For left-justifying a string: str_name.ljust(n,k)\n",
    "     For centering a string: str_name.center(n,k)\n",
    "     \n",
    "     Here, n is the number of times the k character is to be printed."
   ]
  },
  {
   "cell_type": "markdown",
   "id": "f909d592",
   "metadata": {},
   "source": [
    "Q10. What is the best way to remove whitespace characters from the start or end?\n",
    "\n",
    "Ans: By using the function lstrip() we can remove white space from the begining: str_name.lstrip()\n",
    "     By using the function rstrip() we can remove white space from the ending: str_name.rstrip()"
   ]
  }
 ],
 "metadata": {
  "kernelspec": {
   "display_name": "Python 3",
   "language": "python",
   "name": "python3"
  },
  "language_info": {
   "codemirror_mode": {
    "name": "ipython",
    "version": 3
   },
   "file_extension": ".py",
   "mimetype": "text/x-python",
   "name": "python",
   "nbconvert_exporter": "python",
   "pygments_lexer": "ipython3",
   "version": "3.8.8"
  }
 },
 "nbformat": 4,
 "nbformat_minor": 5
}
