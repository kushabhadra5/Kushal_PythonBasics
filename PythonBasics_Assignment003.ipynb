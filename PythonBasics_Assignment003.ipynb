{
 "cells": [
  {
   "cell_type": "markdown",
   "id": "dd50485e",
   "metadata": {},
   "source": [
    "Q1. Why are functions advantageous to have in your programs?\n",
    "\n",
    "Ans: It helps us to reuse the same code for same logic, it is cleaner and readable, while exeution execution we only have to call the fuction and pass the parameters."
   ]
  },
  {
   "cell_type": "markdown",
   "id": "ca75376f",
   "metadata": {},
   "source": [
    "Q2. When does the code in a function run: when it's specified or when it's called?\n",
    "    \n",
    "Ans: when it's called"
   ]
  },
  {
   "cell_type": "markdown",
   "id": "95121a82",
   "metadata": {},
   "source": [
    "Q3. What statement creates a function?\n",
    "\n",
    "Ans: def func_name():\n",
    "        pass"
   ]
  },
  {
   "cell_type": "markdown",
   "id": "06604f4d",
   "metadata": {},
   "source": [
    "Q4. What is the difference between a function and a function call?\n",
    "\n",
    "Ans: A function is having certain logic/s that returns some result, where the function may or may not be depending upon parameters to produce result, whereas function call is the execution of that logic/s within the function function that gives control to the function."
   ]
  },
  {
   "cell_type": "markdown",
   "id": "74e12fa7",
   "metadata": {},
   "source": [
    "Q5. How many global scopes are there in a Python program? How many local scopes?\n",
    "\n",
    "Ans: There's only one global Python scope per program execution. This scope remains in existence until the program terminates and all its names are forgotten. Local scopes depends upon the number of time functions called in it "
   ]
  },
  {
   "cell_type": "markdown",
   "id": "b5b2ff25",
   "metadata": {},
   "source": [
    "Q6. What happens to variables in a local scope when the function call returns?\n",
    "\n",
    "Ans: Since, the variables are present in local scope. So, when a function returns the local scope is destroyed as well as the variables too."
   ]
  },
  {
   "cell_type": "markdown",
   "id": "ce2341ea",
   "metadata": {},
   "source": [
    "Q7. What is the concept of a return value? Is it possible to have a return value in an expression?\n",
    "\n",
    "Ans: After performing some operations a function can return some value. This value that a function returns to the caller is generally known as the function’s return value. Yes, a return value can be used as part of an expression."
   ]
  },
  {
   "cell_type": "markdown",
   "id": "ffd6bf97",
   "metadata": {},
   "source": [
    "Q8. If a function does not have a return statement, what is the return value of a call to that function?\n",
    "\n",
    "Ans: It is not madatory for a furction to return value after its execution. Thus, if it doesn't have return statement then it will return nothing."
   ]
  },
  {
   "cell_type": "markdown",
   "id": "9015dde8",
   "metadata": {},
   "source": [
    "Q9. How do you make a function variable refer to the global variable?\n",
    "\n",
    "Ans: We have to use the global keyword to declare the variables inside the function are global."
   ]
  },
  {
   "cell_type": "markdown",
   "id": "9318686b",
   "metadata": {},
   "source": [
    "Q10. What is the data type of None?\n",
    "\n",
    "Ans: None is a data type of its own (NoneType)"
   ]
  },
  {
   "cell_type": "markdown",
   "id": "f2ab70bf",
   "metadata": {},
   "source": [
    "Q11. What does the sentence import areallyourpetsnamederic do?\n",
    "\n",
    "Ans: If a module with name areallyourpetsnamederic is present in python then the import statement will import this module in current code."
   ]
  },
  {
   "cell_type": "markdown",
   "id": "250187f4",
   "metadata": {},
   "source": [
    "Q12. If you had a bacon() feature in a spam module, what would you call it after importing spam?\n",
    "\n",
    "Ans: To use the bacon() feature we have to call spam.bacon() after importing spam module."
   ]
  },
  {
   "cell_type": "markdown",
   "id": "73900bfb",
   "metadata": {},
   "source": [
    "Q13. What can you do to save a programme from crashing if it encounters an error?\n",
    "\n",
    "Ans: By using try except clause to save a program from crashing."
   ]
  },
  {
   "cell_type": "markdown",
   "id": "1d3b0462",
   "metadata": {},
   "source": [
    "Q14. What is the purpose of the try clause? What is the purpose of the except clause?\n",
    "\n",
    "Ans: Try and Except clause is used to handle the errors within our code . The try block is used to check some code for errors that is the code inside the try block will execute when there is no error in the program. Whereas the code inside the except block will execute whenever the program encounters some error in the try block."
   ]
  }
 ],
 "metadata": {
  "kernelspec": {
   "display_name": "Python 3",
   "language": "python",
   "name": "python3"
  },
  "language_info": {
   "codemirror_mode": {
    "name": "ipython",
    "version": 3
   },
   "file_extension": ".py",
   "mimetype": "text/x-python",
   "name": "python",
   "nbconvert_exporter": "python",
   "pygments_lexer": "ipython3",
   "version": "3.8.8"
  }
 },
 "nbformat": 4,
 "nbformat_minor": 5
}
