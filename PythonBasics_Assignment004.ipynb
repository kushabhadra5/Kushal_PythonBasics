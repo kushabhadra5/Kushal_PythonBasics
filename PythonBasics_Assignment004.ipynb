{
 "cells": [
  {
   "cell_type": "markdown",
   "id": "df20bed5",
   "metadata": {},
   "source": [
    "Q1. What exactly is []?\n",
    "\n",
    "Ans: It is used to show empty list."
   ]
  },
  {
   "cell_type": "code",
   "execution_count": 1,
   "id": "ed468fcd",
   "metadata": {},
   "outputs": [
    {
     "data": {
      "text/plain": [
       "list"
      ]
     },
     "execution_count": 1,
     "metadata": {},
     "output_type": "execute_result"
    }
   ],
   "source": [
    "l=[]\n",
    "type(l)\n"
   ]
  },
  {
   "cell_type": "markdown",
   "id": "9fb463df",
   "metadata": {},
   "source": [
    "Q2. In a list of values stored in a variable called spam, how would you assign the value 'hello' as the third value? \n",
    "     (Assume [2, 4, 6, 8, 10] are in spam.)\n",
    "\n",
    "Ans:"
   ]
  },
  {
   "cell_type": "code",
   "execution_count": 2,
   "id": "7d07482b",
   "metadata": {},
   "outputs": [
    {
     "data": {
      "text/plain": [
       "[2, 4, 'hello', 6, 8, 10]"
      ]
     },
     "execution_count": 2,
     "metadata": {},
     "output_type": "execute_result"
    }
   ],
   "source": [
    "l=[2,4,6,8,10]\n",
    "l.insert(2,'hello')\n",
    "l"
   ]
  },
  {
   "cell_type": "markdown",
   "id": "ee6aeac1",
   "metadata": {},
   "source": [
    "Let's pretend the spam includes the list ['a', 'b', 'c', 'd'] for the next three queries."
   ]
  },
  {
   "cell_type": "code",
   "execution_count": 3,
   "id": "cc8c835e",
   "metadata": {},
   "outputs": [],
   "source": [
    "spam = ['a', 'b', 'c', 'd']"
   ]
  },
  {
   "cell_type": "markdown",
   "id": "8f12d790",
   "metadata": {},
   "source": [
    "Q3. What is the value of spam[int(int('3' * 2) / 11)]?\n",
    "\n",
    "Ans: Here, the logic inside the square brackets will be solved that is\n",
    "    '3'*2 will give '33'\n",
    "    Since, the string type is now taken as int type then it will be 33.\n",
    "    Then it is divided by 11 which gives us 3.\n",
    "    So, the result should be spam[3] that is 'd'."
   ]
  },
  {
   "cell_type": "code",
   "execution_count": 4,
   "id": "b30772a7",
   "metadata": {},
   "outputs": [
    {
     "data": {
      "text/plain": [
       "'d'"
      ]
     },
     "execution_count": 4,
     "metadata": {},
     "output_type": "execute_result"
    }
   ],
   "source": [
    "spam[int(int('3' * 2) / 11)]"
   ]
  },
  {
   "cell_type": "code",
   "execution_count": 5,
   "id": "09aea72b",
   "metadata": {},
   "outputs": [
    {
     "data": {
      "text/plain": [
       "'d'"
      ]
     },
     "execution_count": 5,
     "metadata": {},
     "output_type": "execute_result"
    }
   ],
   "source": [
    "spam[3]"
   ]
  },
  {
   "cell_type": "markdown",
   "id": "0341f19c",
   "metadata": {},
   "source": [
    "Q4. What is the value of spam[-1]?\n",
    "\n",
    "Ans: This will give the last element present in the list that is 'd'."
   ]
  },
  {
   "cell_type": "code",
   "execution_count": 6,
   "id": "a014f35b",
   "metadata": {},
   "outputs": [
    {
     "data": {
      "text/plain": [
       "'d'"
      ]
     },
     "execution_count": 6,
     "metadata": {},
     "output_type": "execute_result"
    }
   ],
   "source": [
    "spam[-1]"
   ]
  },
  {
   "cell_type": "markdown",
   "id": "28cda07a",
   "metadata": {},
   "source": [
    "Q5. What is the value of spam[:2]?\n",
    "\n",
    "Ans: This will return a new list containing elements present in the spam list till second index but not included i.e. ['a','b']"
   ]
  },
  {
   "cell_type": "code",
   "execution_count": 7,
   "id": "fce1c35c",
   "metadata": {},
   "outputs": [
    {
     "data": {
      "text/plain": [
       "['a', 'b']"
      ]
     },
     "execution_count": 7,
     "metadata": {},
     "output_type": "execute_result"
    }
   ],
   "source": [
    "spam[:2]"
   ]
  },
  {
   "cell_type": "markdown",
   "id": "88e933a3",
   "metadata": {},
   "source": [
    "Let's pretend bacon has the list [3.14, 'cat,' 11, 'cat,' True] for the next three questions."
   ]
  },
  {
   "cell_type": "code",
   "execution_count": 12,
   "id": "f3da3897",
   "metadata": {},
   "outputs": [],
   "source": [
    "bacon=[3.14 , 'cat' , 11 , 'cat' , True]"
   ]
  },
  {
   "cell_type": "markdown",
   "id": "5eb5ae2c",
   "metadata": {},
   "source": [
    "Q6. What is the value of bacon.index('cat')?\n",
    "\n",
    "Ans: This return the first index position where the element is 'cat' that is 1."
   ]
  },
  {
   "cell_type": "code",
   "execution_count": 13,
   "id": "13c32a63",
   "metadata": {},
   "outputs": [
    {
     "data": {
      "text/plain": [
       "1"
      ]
     },
     "execution_count": 13,
     "metadata": {},
     "output_type": "execute_result"
    }
   ],
   "source": [
    "bacon.index('cat')"
   ]
  },
  {
   "cell_type": "markdown",
   "id": "e6a459df",
   "metadata": {},
   "source": [
    "Q7. How does bacon.append(99) change the look of the list value in bacon?\n",
    "\n",
    "Ans: This will add 99 in the list at the end."
   ]
  },
  {
   "cell_type": "code",
   "execution_count": 14,
   "id": "a00b854f",
   "metadata": {},
   "outputs": [
    {
     "data": {
      "text/plain": [
       "[3.14, 'cat', 11, 'cat', True, 99]"
      ]
     },
     "execution_count": 14,
     "metadata": {},
     "output_type": "execute_result"
    }
   ],
   "source": [
    "bacon.append(99)\n",
    "bacon"
   ]
  },
  {
   "cell_type": "markdown",
   "id": "5d30aec7",
   "metadata": {},
   "source": [
    "Q8. How does bacon.remove('cat') change the look of the list in bacon?\n",
    "\n",
    "Ans: This will remove the 'cat' element that is occuring first in the list."
   ]
  },
  {
   "cell_type": "code",
   "execution_count": 15,
   "id": "34dab94f",
   "metadata": {},
   "outputs": [
    {
     "data": {
      "text/plain": [
       "[3.14, 11, 'cat', True, 99]"
      ]
     },
     "execution_count": 15,
     "metadata": {},
     "output_type": "execute_result"
    }
   ],
   "source": [
    "bacon.remove('cat')\n",
    "bacon"
   ]
  },
  {
   "cell_type": "markdown",
   "id": "8c1ecc72",
   "metadata": {},
   "source": [
    "Q9. What are the list concatenation and list replication operators?\n",
    "\n",
    "Ans: list concatenation operator: + and list replication operator: *"
   ]
  },
  {
   "cell_type": "markdown",
   "id": "1413882c",
   "metadata": {},
   "source": [
    "Q10. What is difference between the list methods append() and insert()?\n",
    "\n",
    "Ans: If use this method for a list. The append method will add a new element at the end of the list, whereas the insert method needs two parameters first is the position or the index and the other parameter is element that is to be added in the list."
   ]
  },
  {
   "cell_type": "code",
   "execution_count": 18,
   "id": "c167fb2d",
   "metadata": {},
   "outputs": [],
   "source": [
    "new_list=[1,2,3,4,5,6,7]"
   ]
  },
  {
   "cell_type": "code",
   "execution_count": 19,
   "id": "a87a1b4f",
   "metadata": {},
   "outputs": [
    {
     "data": {
      "text/plain": [
       "[1, 2, 3, 4, 5, 6, 7, 99]"
      ]
     },
     "execution_count": 19,
     "metadata": {},
     "output_type": "execute_result"
    }
   ],
   "source": [
    "#append method\n",
    "new_list.append(99)\n",
    "new_list"
   ]
  },
  {
   "cell_type": "code",
   "execution_count": 20,
   "id": "d49e9408",
   "metadata": {},
   "outputs": [],
   "source": [
    "new_list=[1,2,3,4,5,6,7]"
   ]
  },
  {
   "cell_type": "code",
   "execution_count": 21,
   "id": "c6fca5d3",
   "metadata": {},
   "outputs": [
    {
     "data": {
      "text/plain": [
       "[1, 2, 3, 4, 99, 5, 6, 7]"
      ]
     },
     "execution_count": 21,
     "metadata": {},
     "output_type": "execute_result"
    }
   ],
   "source": [
    "#insert method, inserting 99 in 4th index\n",
    "new_list.insert(4,99)\n",
    "new_list"
   ]
  },
  {
   "cell_type": "markdown",
   "id": "1255329d",
   "metadata": {},
   "source": [
    "Q11. What are the two methods for removing items from a list?\n",
    "\n",
    "Ans: remove() and pop()"
   ]
  },
  {
   "cell_type": "markdown",
   "id": "c81ed0a2",
   "metadata": {},
   "source": [
    "Q12. Describe how list values and string values are identical.\n",
    "\n",
    "Ans: Following are the properties on which list values and strings are identical:\n",
    "        1. To check the length both lists and strings can be passed to len().\n",
    "        2. Have indexes and slices.\n",
    "        3. Can be used in for loops.\n",
    "        4. Can be concatenated or replicated.\n",
    "        5. Can be used with the in and not in operators"
   ]
  },
  {
   "cell_type": "markdown",
   "id": "afaa656f",
   "metadata": {},
   "source": [
    "Q.13. What's the difference between tuples and lists?\n",
    "\n",
    "Ans: List are mutable where we can change or ommit the elements in it, whereas tuples are immutable where no change or ommition\n",
    "     of elements can be done in its elements.\n",
    "     List elements are enclosed within [ ], whereas tuples elements are enclosed within ()."
   ]
  },
  {
   "cell_type": "markdown",
   "id": "084aca00",
   "metadata": {},
   "source": [
    "Q.14. How do you type a tuple value that only contains the integer 42?\n",
    "\n",
    "Ans: t=(42,)"
   ]
  },
  {
   "cell_type": "markdown",
   "id": "c401c0b7",
   "metadata": {},
   "source": [
    "Q15. How do you get a list value's tuple form? How do you get a tuple value's list form?\n",
    "\n",
    "Ans: To get a list value's tuple form: tuple(list_name)\n",
    "     To get a tuple value's list form: list(tuple_name)"
   ]
  },
  {
   "cell_type": "code",
   "execution_count": 26,
   "id": "3b91e714",
   "metadata": {},
   "outputs": [
    {
     "data": {
      "text/plain": [
       "(1, 2, 3, 4, 5)"
      ]
     },
     "execution_count": 26,
     "metadata": {},
     "output_type": "execute_result"
    }
   ],
   "source": [
    "#Suppose a list l\n",
    "l=[1,2,3,4,5]\n",
    "#For its tuple form:\n",
    "tuple(l)"
   ]
  },
  {
   "cell_type": "code",
   "execution_count": 28,
   "id": "a04350bf",
   "metadata": {},
   "outputs": [
    {
     "data": {
      "text/plain": [
       "(10, 9, 8, 7, 6)"
      ]
     },
     "execution_count": 28,
     "metadata": {},
     "output_type": "execute_result"
    }
   ],
   "source": [
    "#Suppose a tuple t\n",
    "t=(10,9,8,7,6)\n",
    "#For its list form:\n",
    "tuple(t)"
   ]
  },
  {
   "cell_type": "markdown",
   "id": "def48cd0",
   "metadata": {},
   "source": [
    "Q16. Variables that \"contain\" list values are not necessarily lists themselves. Instead, what do they contain?\n",
    "\n",
    "Ans: Variables will contain references to list values rather than list values themselves."
   ]
  },
  {
   "cell_type": "markdown",
   "id": "147a4280",
   "metadata": {},
   "source": [
    "Q17. How do you distinguish between copy.copy() and copy.deepcopy()?\n",
    "\n",
    "Ans: copy.copy() is referred to be shallow copy where a shallow copy means constructing a new collection object and then populating it with references to the child objects found in the original.That means if any changes take place to the copied version the same change will be refected upon original version.\n",
    "     copy.deepcopy() is referred to be deep copy where copying process occurs recursively. It means first constructing a new collection object and then recursively populating it with copies of the elements found in the original. So, if any changes take place in copied version will not affect the original version."
   ]
  }
 ],
 "metadata": {
  "kernelspec": {
   "display_name": "Python 3",
   "language": "python",
   "name": "python3"
  },
  "language_info": {
   "codemirror_mode": {
    "name": "ipython",
    "version": 3
   },
   "file_extension": ".py",
   "mimetype": "text/x-python",
   "name": "python",
   "nbconvert_exporter": "python",
   "pygments_lexer": "ipython3",
   "version": "3.8.8"
  }
 },
 "nbformat": 4,
 "nbformat_minor": 5
}
